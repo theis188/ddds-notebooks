{
 "cells": [
  {
   "cell_type": "code",
   "execution_count": 31,
   "metadata": {
    "collapsed": false
   },
   "outputs": [
    {
     "name": "stdout",
     "output_type": "stream",
     "text": [
      "64\n",
      "83\n"
     ]
    }
   ],
   "source": [
    "board = [(i,j) for i in range(8) for j in range(8)]\n",
    "print len(board)\n",
    "\n",
    "def queens(board,depth,start):\n",
    "    if (depth==7): return 1\n",
    "    if start>=len(board): return 0\n",
    "    a,b = board[start]\n",
    "    newboard = [(i,j) for i,j in board if (i != a) and (j!=b) and (i-j != a-b) and (i+j != a+b)]\n",
    "    place = 8*a + b\n",
    "    newboardplaces = [8*k+l for k,l in newboard]\n",
    "    newstarts = [l for l,k in enumerate(newboardplaces) if k >= place]\n",
    "    if not newstarts: return 0\n",
    "    newstart = min(newstarts)\n",
    "    return queens(newboard,depth+1,newstart) + queens(board,depth,start+1)\n",
    "\n",
    "print queens(board,0,0)"
   ]
  }
 ],
 "metadata": {
  "kernelspec": {
   "display_name": "Python [Root]",
   "language": "python",
   "name": "Python [Root]"
  },
  "language_info": {
   "codemirror_mode": {
    "name": "ipython",
    "version": 2
   },
   "file_extension": ".py",
   "mimetype": "text/x-python",
   "name": "python",
   "nbconvert_exporter": "python",
   "pygments_lexer": "ipython2",
   "version": "2.7.11"
  }
 },
 "nbformat": 4,
 "nbformat_minor": 0
}
