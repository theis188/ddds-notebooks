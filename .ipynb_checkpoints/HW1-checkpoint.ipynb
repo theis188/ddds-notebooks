{
 "cells": [
  {
   "cell_type": "markdown",
   "metadata": {},
   "source": [
    "### Q1 Prove L(a,b) = L(b,a)\n",
    "\n",
    "The Levenshtein edit from word $a$ to word $b$ can be represented as a list.\n",
    "\n",
    "$ Lev(a,b) = \\vec{\\mathbf{E_{ab}}} = \\left[e_1,e_2,e_3 ... ,e_n \\right] $\n",
    "\n",
    "$ e_i $ are individual edits such that\n",
    "\n",
    "$ e_i \\in \\{I_{k,Lj},R_{k,Lj,Lm},D_{k,Lj} \\}$\n",
    "\n",
    "Where $I_{k,Lj}$ is an insertion of the letter $L_j$ at letter number $k$ in the word.\n",
    "\n",
    "$R_{k,L_j,L_m}$ is the replacement of letter $L_j$, at position $k$ with letter $L_m$.\n",
    "\n",
    "$D_{k,Lj}$ is the deletion of letter $L_j$ at position k.\n",
    "\n",
    "For any individual edit, it can be reversed.\n",
    "\n",
    "$I_{k,Lj}$ is the reverse of $D_{k,Lj}$ and vice versa.\n",
    "\n",
    "$R_{k,L_j,L_m}$ is the reverse of $R_{k,L_j,L_m}$\n",
    "\n",
    "Therefore, the Levenshtein edit from word b to word a, is simply the following:\n",
    "\n",
    "$\\vec{\\mathbf{E_{ba}}} = Rev(\\vec{\\mathbf{E_{ab}}})$\n",
    "\n",
    "Where $Rev$ is the function that reverses the <strong> order </strong> of the edits, <strong> then </strong> reverses them individually. $\\vec{\\mathbf{E_{ba}}}$ and $\\vec{\\mathbf{E_{ab}}}$ are the same length thus $L(a,b) = L(b,a)$\n"
   ]
  },
  {
   "cell_type": "markdown",
   "metadata": {},
   "source": [
    "### Q2 a) Implement quicksort"
   ]
  },
  {
   "cell_type": "code",
   "execution_count": 79,
   "metadata": {
    "collapsed": false
   },
   "outputs": [
    {
     "data": {
      "text/plain": [
       "[-5, 0, 1, 2, 3, 5, 7]"
      ]
     },
     "execution_count": 79,
     "metadata": {},
     "output_type": "execute_result"
    }
   ],
   "source": [
    "import random\n",
    "\n",
    "def quick(a):\n",
    "    if len(set(a)) < 2: return a\n",
    "    ind = int(random.random()*len(a))\n",
    "    judge = a[ind]\n",
    "    b=[];c=[];\n",
    "    for i in a: \n",
    "        if i <= judge: b.append(i)\n",
    "        else: c.append(i)\n",
    "    return quick(b) + quick(c)\n",
    "    \n",
    "quick([5,3,2,0,1,7,-5])"
   ]
  },
  {
   "cell_type": "markdown",
   "metadata": {},
   "source": [
    "### Q2 b) Implement mergesort"
   ]
  },
  {
   "cell_type": "code",
   "execution_count": 51,
   "metadata": {
    "collapsed": false
   },
   "outputs": [
    {
     "data": {
      "text/plain": [
       "[-5, 1, 3, 3, 3, 5, 7]"
      ]
     },
     "execution_count": 51,
     "metadata": {},
     "output_type": "execute_result"
    }
   ],
   "source": [
    "def ms(c):\n",
    "    if len(c) == 1:\n",
    "        return c\n",
    "    a = c[:len(c)//2]\n",
    "    b = c[len(c)//2:]\n",
    "    return m(ms(a),ms(b))\n",
    "\n",
    "def m(a,b):\n",
    "    c = []; i = 0; j = 0;\n",
    "    while i < len(a) and j < len(b):\n",
    "        if a[i]<=b[j]:\n",
    "            c.append(a[i])\n",
    "            i += 1;\n",
    "        else:\n",
    "            c.append(b[j])\n",
    "            j += 1;\n",
    "    return c + a[i:] + b[j:]\n",
    "\n",
    "ms([5,3,3,3,1,7,-5])"
   ]
  },
  {
   "cell_type": "markdown",
   "metadata": {},
   "source": [
    "### Q3  time complexity of quicksort\n",
    "\n",
    "Function quick implemented above is recursive. The quick sort algorithm has time requirement n,. \n",
    "\n",
    "On average (arrays are equal size):\n",
    "\n",
    "$T(n) = n + 2*T(n/2) = n + 2*(n/2 + 4*T(n/4)) = ...$\n",
    "\n",
    "This will asymptotically equal $\\big(n + n + n \\, + \\,  ... \\, + \\, n*[\\,T(1) = 1\\,]\\, \\big)$ where the number of n's is equal to $log_2n$. Therefore, $T(n) \\approx n * log_2n \\approx O(nlogn)$\n",
    "\n",
    "Worst case (one array has only 1):\n",
    "\n",
    "$T(n) = n + 1 + T(n-1)$, $n$ for sorting the arrays, $1$ for the array with one element, and $T(n-1)$ for the array with $n-1$ elements. This makes use of the edge condition that $T(1) = 1$.\n",
    "\n",
    "$T(n) = (n+1) + (n) + T(n-2) = ... = \\sum_{i=2}^{i=n} (i+1) +1 = n^2 + 2n - 1 \\approx O(n^2)$"
   ]
  },
  {
   "cell_type": "markdown",
   "metadata": {},
   "source": [
    "### Q4 space complexity\n",
    "\n",
    "There are only temporary assignments with size ~ to original array, so space complexity is O(n)."
   ]
  },
  {
   "cell_type": "markdown",
   "metadata": {},
   "source": [
    "### Q5 empirical test quick"
   ]
  },
  {
   "cell_type": "code",
   "execution_count": 113,
   "metadata": {
    "collapsed": false
   },
   "outputs": [],
   "source": [
    "import matplotlib.pyplot as plt\n",
    "import time\n",
    "%matplotlib inline\n",
    "\n",
    "def rand_array(n):\n",
    "    return [ int(1000*random.random()) for _ in range(n)]\n",
    "\n",
    "data_x = []; \n",
    "data_y = [];\n",
    "\n",
    "for i in range(36):\n",
    "    data_x.append(1.5**i)\n",
    "    array2sort = rand_array(int(1.5**i))\n",
    "    before = time.time()\n",
    "    sorted_array = quick(array2sort)\n",
    "    elapsed = time.time() - before\n",
    "    data_y.append(elapsed)"
   ]
  },
  {
   "cell_type": "code",
   "execution_count": 120,
   "metadata": {
    "collapsed": false
   },
   "outputs": [
    {
     "data": {
      "image/png": "[encoded data removed]",
      "text/plain": [
       "<matplotlib.figure.Figure at 0xb09cda20>"
      ]
     },
     "metadata": {},
     "output_type": "display_data"
    }
   ],
   "source": [
    "import math\n",
    "\n",
    "ax = plt.subplot()\n",
    "#logdata_x = [math.log(i) for i in data_x]\n",
    "#logdata_y = [math.log(i) for i in data_y]\n",
    "\n",
    "c=0.00000025;\n",
    "c2 = 0.000000000004;\n",
    "xlogx = [c*n*math.log(n) for n in data_x]\n",
    "x2 = [c2*n**2 for n in data_x]\n",
    "\n",
    "ax.plot(data_x,data_y)\n",
    "ax.plot(data_x,xlogx)\n",
    "ax.plot(data_x,x2)\n",
    "ax.legend(['Quicksort Alg.','nlog(n) trend','n^2 trend'],loc=9)\n",
    "plt.xlabel('n, array size')\n",
    "plt.ylabel('Time (sec)')\n",
    "plt.xticks([0,400000,800000,1200000,1600000])\n",
    "plt.yticks([0,3,6,9])\n",
    "plt.show()"
   ]
  },
  {
   "cell_type": "markdown",
   "metadata": {},
   "source": [
    "We can clearly see the data tracks with the $nlogn$ trend far more than the $n^2$ trend--with some random variation as expected."
   ]
  },
  {
   "cell_type": "markdown",
   "metadata": {},
   "source": [
    "### Q6 trees"
   ]
  },
  {
   "cell_type": "code",
   "execution_count": 202,
   "metadata": {
    "collapsed": false
   },
   "outputs": [
    {
     "name": "stdout",
     "output_type": "stream",
     "text": [
      "[5, 3, 8, 2]\n",
      "[8, 2, 5, 3]\n"
     ]
    }
   ],
   "source": [
    "import collections\n",
    "\n",
    "def tree():\n",
    "    return collections.defaultdict(tree)\n",
    "\n",
    "a = tree()\n",
    "a[0][0][0] = 5\n",
    "a[0][0][1] = 3\n",
    "a[0][1] = 8\n",
    "a[1][0] = 2\n",
    "\n",
    "def DFS(tr,list):\n",
    "    if not tr:\n",
    "        return []\n",
    "    elif isinstance( tr, ( int, long ) ):\n",
    "        return [tr]\n",
    "    else:\n",
    "        return list+DFS(tr[0],list)+DFS(tr[1],list)\n",
    "\n",
    "def BFS(tr,list):\n",
    "    newtr = []\n",
    "    isnode = 0;\n",
    "    for i in tr:\n",
    "        if i:\n",
    "            isnode = 1;\n",
    "            if isinstance( i, ( int, long ) ):\n",
    "                list += [i]\n",
    "            else: \n",
    "                newtr += [i[0],i[1]]\n",
    "    if isnode ==0: return list\n",
    "    else: return BFS(newtr,list)\n",
    "\n",
    "    \n",
    "print DFS(a,[])\n",
    "print BFS([a],[])\n"
   ]
  },
  {
   "cell_type": "markdown",
   "metadata": {},
   "source": [
    "### Q7 Lev distance & memoization"
   ]
  },
  {
   "cell_type": "code",
   "execution_count": 233,
   "metadata": {
    "collapsed": false
   },
   "outputs": [
    {
     "name": "stdout",
     "output_type": "stream",
     "text": [
      "13\n",
      "13\n",
      "2.56799983978 0.00100016593933\n"
     ]
    }
   ],
   "source": [
    "def lev(a,b):\n",
    "    if a=='' or b=='':\n",
    "        return len(a)+len(b)\n",
    "    if a[0]==b[0]:\n",
    "        return lev(a[1:],b[1:])\n",
    "    return min(lev(a[1:],b[1:]) + 1, lev(a,b[1:]) + 1, lev(a[1:],b)+1)\n",
    "\n",
    "begin1 = time.time()\n",
    "print lev('zhigamb','cantankerously')\n",
    "elapsed1 = time.time() - begin1 \n",
    "\n",
    "def levmem(a,b,di):\n",
    "    if a+','+b in di.keys(): \n",
    "        return di[a+','+b]\n",
    "    if b+','+a in di.keys(): \n",
    "        return di[b+','+a]\n",
    "    if a=='' or b=='':\n",
    "        return len(a)+len(b)\n",
    "    di[a[1:]+','+b[1:]] = levmem(a[1:],b[1:],di)\n",
    "    di[a+','+b[1:]] = levmem(a,b[1:],di)\n",
    "    di[a[1:]+','+b] = levmem(a[1:],b,di)\n",
    "    if a[0]==b[0]:\n",
    "        return di[a[1:]+','+b[1:]]\n",
    "    return min(di[a[1:]+','+b[1:]] + 1, di[a+','+b[1:]] + 1, di[a[1:]+','+b] + 1)\n",
    "\n",
    "begin2 = time.time()\n",
    "print levmem('zhigamb','cantankerously',{})\n",
    "elapsed2 = time.time() - begin2\n",
    "\n",
    "print elapsed1,elapsed2"
   ]
  },
  {
   "cell_type": "markdown",
   "metadata": {},
   "source": [
    "#### Time complexity\n",
    "\n",
    "The time complexity of the lev function is at worst $O(3^n)$ where n is the total number of letters in strings a & b. This is because the function splits in 3 directions and at worst passes only one letter in one of the strings.\n",
    "\n",
    "For the memoized version, it is $O(n*m)$ where n and m are the lengths of the strings. This reduces to $ \\approx O(n^2)$ in the case that a and b are approximately the same length. The function must at most calculate Levenshtein distances for specific subsets of strings a and b. These subsets are defined by selecting all letters to the right of some point in each string. The number of combinations of such substrings is $\\approx n*m$."
   ]
  },
  {
   "cell_type": "markdown",
   "metadata": {},
   "source": [
    "### Q8 Queue & stack"
   ]
  },
  {
   "cell_type": "code",
   "execution_count": 252,
   "metadata": {
    "collapsed": false
   },
   "outputs": [
    {
     "name": "stdout",
     "output_type": "stream",
     "text": [
      "3\n",
      "[1, 2]\n",
      "1\n",
      "[2, 3]\n"
     ]
    }
   ],
   "source": [
    "class stack:\n",
    "    def __init__(self):\n",
    "        self.values = [];\n",
    "    def push(self,num):\n",
    "        self.values.append(num)\n",
    "    def pop(self):\n",
    "        return self.values.pop()\n",
    "\n",
    "k = stack()\n",
    "k.push(1)\n",
    "k.push(2)\n",
    "k.push(3)\n",
    "print k.pop()\n",
    "print k.values\n",
    "    \n",
    "class queue:\n",
    "    def __init__(self):\n",
    "        self.values = [];\n",
    "    def enqueue(self,num):\n",
    "        self.values.append(num)\n",
    "    def dequeue(self):\n",
    "        return self.values.pop(0)\n",
    "\n",
    "    \n",
    "j = queue()\n",
    "j.enqueue(1)\n",
    "j.enqueue(2)\n",
    "j.enqueue(3)\n",
    "\n",
    "\n",
    "print j.dequeue()\n",
    "print j.values\n"
   ]
  }
 ],
 "metadata": {
  "kernelspec": {
   "display_name": "Python 2",
   "language": "python",
   "name": "python2"
  },
  "language_info": {
   "codemirror_mode": {
    "name": "ipython",
    "version": 2
   },
   "file_extension": ".py",
   "mimetype": "text/x-python",
   "name": "python",
   "nbconvert_exporter": "python",
   "pygments_lexer": "ipython2",
   "version": "2.7.11"
  }
 },
 "nbformat": 4,
 "nbformat_minor": 0
}
