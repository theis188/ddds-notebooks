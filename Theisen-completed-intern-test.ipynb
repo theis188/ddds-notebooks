{
 "cells": [
  {
   "cell_type": "markdown",
   "metadata": {},
   "source": [
    "# Demand Media Data Science Intern test.\n",
    "To begin please clone this repository and run the notebook.\n",
    "Checkout [this resource](https://try.github.io/levels/1/challenges/1) for help with git. And similarly for a rundown on [Jupyter.](https://jupyter-notebook-beginner-guide.readthedocs.io/en/latest/)"
   ]
  },
  {
   "cell_type": "markdown",
   "metadata": {},
   "source": [
    "## Data Tools"
   ]
  },
  {
   "cell_type": "markdown",
   "metadata": {},
   "source": [
    "#### Question 1: Convert CSV to JSON\n",
    "List some of the tools you would use to convert a csv file to json. Please list all the different approaches you can think of, for solving a data transformation problem like this.\n",
    "\n",
    "<b>Answer:</b> I am most familiar with Python, so I would probably start with that. There are multiple ways to do it within Python. You can load the rows into python as lists (row_list = line.split(',') or equivalent) and then arrange as necessary and use the json package to write the output file. You can also write the json \"manually\" in Python by placing the brackets, braces and commas as necessary.\n",
    "\n",
    "Other programming languages likely have similar and equivalent methods.\n",
    "\n",
    "In some cases, depending on the size and the amount of editing that needs to be done, the file can be edited in Sublime. Select multiple rows at a time and use Ctrl+Shift+L to get many cursors.\n",
    "\n",
    "A quick google search yields some web-based converters as well."
   ]
  },
  {
   "cell_type": "markdown",
   "metadata": {},
   "source": [
    "## SQL\n",
    "Using the database schema below, answer the following questions.\n",
    "\n",
    "\n",
    "|movie   |actor |casting|\n",
    "|--------|------|-------|\n",
    "|id      |id    |movieid|\n",
    "|title   |name  |actorid|\n",
    "|yr      |      |ord    |\n",
    "|director|      |       | \n",
    "|budget  |      |       |\n",
    "|gross   |      |       |\n",
    "\n",
    "\n",
    "\n",
    "\n"
   ]
  },
  {
   "cell_type": "markdown",
   "metadata": {},
   "source": [
    "#### Question 2:\n",
    "Find the actors in the movie \"Gone with the Wind\"\n",
    "\n",
    "```\n",
    "SELECT a.name FROM actor a\n",
    "JOIN casting c\n",
    "ON c.actorid=a.id\n",
    "JOIN movie m\n",
    "ON m.id = c.movieid\n",
    "WHERE m.title = \"Gone with the Wind\";\n",
    "```"
   ]
  },
  {
   "cell_type": "markdown",
   "metadata": {},
   "source": [
    "#### Question 3:\n",
    "List the films together with the leading star for all 1962 films.\n",
    "\n",
    "```\n",
    "SELECT m.title,a.name FROM movie m\n",
    "JOIN casting c\n",
    "ON c.movieid=m.id\n",
    "JOIN actor a\n",
    "ON a.id = c.actorid\n",
    "WHERE c.ord=1\n",
    "AND m.yr=1962;\n",
    "```"
   ]
  },
  {
   "cell_type": "markdown",
   "metadata": {},
   "source": [
    "## Data Science Questions"
   ]
  },
  {
   "cell_type": "markdown",
   "metadata": {},
   "source": [
    "#### Question 4:\n",
    "Explain the curse of Dimensionality to a child?\n",
    "\n",
    "<b>Answer:</b> There are very many data points (features) and it is impossible to know ahead of time which ones are important. "
   ]
  },
  {
   "cell_type": "markdown",
   "metadata": {},
   "source": [
    "#### Question 5:\n",
    "Why is mean square error a bad measure of model performance? What would you suggest instead?\n",
    "\n",
    "<b>Answer:</b> Depends on context. Your business goals may be punished more highly for a high estimate than a low estimate, which squared error would treat symmetrically. In this case, you will need to use a more customized loss function.\n",
    "\n",
    "If you want to classify data into discrete groups rather than estimate a continuous quantity, squared error won't work well. Instead use something like precision, recall, F-score or AUC."
   ]
  },
  {
   "cell_type": "markdown",
   "metadata": {},
   "source": [
    "#### Question 6:\n",
    "Do you think 50 small decision trees are better than a large one? Why?\n",
    "\n",
    "<b>Answer:</b> One large decision tree may be more intelligible (easier to understand and explain model) and easier to troubleshoot.\n",
    "\n",
    "Many small decision trees, each trained on random subsets of data, are more resistant to overfitting (random forest)."
   ]
  },
  {
   "cell_type": "markdown",
   "metadata": {},
   "source": [
    "#### Question 7:\n",
    "How would you explain an A/B test to an engineer with no statistics background?\n",
    "\n",
    "<b>Answer:</b> We need to test to see if this new interface causes our customers to buy more or not. It is normal to have some level of random variation over time in purchase rates so we need to be able to know if purchases rates in this test are due to random chance or really because of our new interface. We can use statistics to give us some confidence in our result."
   ]
  },
  {
   "cell_type": "markdown",
   "metadata": {},
   "source": [
    "## Python"
   ]
  },
  {
   "cell_type": "markdown",
   "metadata": {},
   "source": [
    "#### Question 8:\n",
    "Find the mean, median and mode of the elements in the list.\n",
    "```python\n",
    "a = [10,15,3,4,67,43,12]\n",
    "\n",
    "```"
   ]
  },
  {
   "cell_type": "code",
   "execution_count": 44,
   "metadata": {
    "collapsed": false
   },
   "outputs": [
    {
     "name": "stdout",
     "output_type": "stream",
     "text": [
      "mean= 22.0\n",
      "median= 12\n",
      "mode= [67, 4, 10, 43, 12, 15, 3]\n"
     ]
    }
   ],
   "source": [
    "a = [10,15,3,4,67,43,12]\n",
    "\n",
    "def mean(arr):\n",
    "    return float(sum(a))/len(a)\n",
    "\n",
    "def median(arr):\n",
    "    n = len(arr)\n",
    "    if n%2:\n",
    "        return sorted(arr)[n//2]\n",
    "    else:\n",
    "        return mean(sorted(arr)[(n//2)-1:(n//2)+1])\n",
    "\n",
    "#on tie, return all with the maximum number of counts -- other tiebreakers are possible\n",
    "def mode(arr):\n",
    "    counts = [(n,arr.count(n)) for n in set(arr)]\n",
    "    maxcount = max(zip(*counts)[1])\n",
    "    return [num for num,count in counts if count==maxcount]\n",
    "    \n",
    "print 'mean=',mean(a)\n",
    "print 'median=',median(a)\n",
    "print 'mode=',mode(a)"
   ]
  },
  {
   "cell_type": "markdown",
   "metadata": {},
   "source": [
    "#### Question 9:\n",
    "What will be the output of the code below? Please explain your answer.\n",
    "```python\n",
    "def multipliers():\n",
    "  return [lambda x : i * x for i in range(4)]\n",
    "    \n",
    "print [m(2) for m in multipliers()]\n",
    "```\n",
    "How would you modify the definition of `multipliers` to produce the presumably desired behavior?"
   ]
  },
  {
   "cell_type": "markdown",
   "metadata": {},
   "source": [
    "<b>Answer:</b> The result is [6,6,6,6]. In the list comprehension, the variable i is placed into the lambda function but is not evaluated before the value that i refers to is changed. Therefore the function is evaluated at the last value that i took within the list comprehension inside the function (i=3). One way to fix it is to define a helper function. In this case the lambda function is evaluated and stored at each value of i.\n",
    "\n",
    "You can also solve this other ways, for example, by doing the integer multiplication inside the list comprehension, rather than just storing a lambda function."
   ]
  },
  {
   "cell_type": "code",
   "execution_count": 45,
   "metadata": {
    "collapsed": false
   },
   "outputs": [
    {
     "name": "stdout",
     "output_type": "stream",
     "text": [
      "[6, 6, 6, 6]\n",
      "[0, 2, 4, 6]\n",
      "[0, 2, 4, 6]\n"
     ]
    }
   ],
   "source": [
    "def fun(i):\n",
    "    return lambda x : x * i\n",
    "\n",
    "def multipliers():\n",
    "    return [lambda x : i * x for i in range(4)]\n",
    "    \n",
    "def multipliersfixed():\n",
    "    return [fun(i) for i in range(4)]\n",
    "    \n",
    "print [m(2) for m in multipliers()]\n",
    "print [m(2) for m in multipliersfixed()]\n",
    "\n",
    "def alternate(a):\n",
    "    return [a*i for i in range(4)]\n",
    "\n",
    "print alternate(2)"
   ]
  }
 ],
 "metadata": {
  "kernelspec": {
   "display_name": "Python [Root]",
   "language": "python",
   "name": "Python [Root]"
  },
  "language_info": {
   "codemirror_mode": {
    "name": "ipython",
    "version": 2
   },
   "file_extension": ".py",
   "mimetype": "text/x-python",
   "name": "python",
   "nbconvert_exporter": "python",
   "pygments_lexer": "ipython2",
   "version": "2.7.11"
  }
 },
 "nbformat": 4,
 "nbformat_minor": 0
}
