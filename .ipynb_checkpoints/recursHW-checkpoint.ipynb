{
 "cells": [
  {
   "cell_type": "code",
   "execution_count": 94,
   "metadata": {
    "collapsed": false
   },
   "outputs": [
    {
     "data": {
      "text/plain": [
       "5"
      ]
     },
     "execution_count": 94,
     "metadata": {},
     "output_type": "execute_result"
    }
   ],
   "source": [
    "def maxel(a,macks):\n",
    "    if not a: return macks\n",
    "    return maxel(a[1:],max(a[0], macks ) )\n",
    "\n",
    "maxel([1,2,3,4,5],None)"
   ]
  },
  {
   "cell_type": "code",
   "execution_count": 101,
   "metadata": {
    "collapsed": false
   },
   "outputs": [
    {
     "data": {
      "text/plain": [
       "36"
      ]
     },
     "execution_count": 101,
     "metadata": {},
     "output_type": "execute_result"
    }
   ],
   "source": [
    "def summ(n):\n",
    "    if not n: return n\n",
    "    return n + summ(n-1)\n",
    "\n",
    "summ(8)"
   ]
  },
  {
   "cell_type": "code",
   "execution_count": 104,
   "metadata": {
    "collapsed": false
   },
   "outputs": [
    {
     "data": {
      "text/plain": [
       "40320"
      ]
     },
     "execution_count": 104,
     "metadata": {},
     "output_type": "execute_result"
    }
   ],
   "source": [
    "def fact(n):\n",
    "    if n==1: return 1\n",
    "    return n*fact(n-1)\n",
    "\n",
    "fact(8)"
   ]
  },
  {
   "cell_type": "code",
   "execution_count": 106,
   "metadata": {
    "collapsed": false
   },
   "outputs": [
    {
     "data": {
      "text/plain": [
       "3"
      ]
     },
     "execution_count": 106,
     "metadata": {},
     "output_type": "execute_result"
    }
   ],
   "source": [
    "def occur(s,l):\n",
    "    if not s: return 0\n",
    "    return (s[0] == l) + occur(s[1:],l)\n",
    "\n",
    "occur('abcaabbbcdcdcdc','a')"
   ]
  },
  {
   "cell_type": "code",
   "execution_count": 107,
   "metadata": {
    "collapsed": false
   },
   "outputs": [
    {
     "data": {
      "text/plain": [
       "6"
      ]
     },
     "execution_count": 107,
     "metadata": {},
     "output_type": "execute_result"
    }
   ],
   "source": [
    "def digsum(n):\n",
    "    if not n: return 0\n",
    "    return n%10 + digsum(n//10)\n",
    "digsum(123)"
   ]
  },
  {
   "cell_type": "code",
   "execution_count": 112,
   "metadata": {
    "collapsed": false
   },
   "outputs": [
    {
     "data": {
      "text/plain": [
       "'bbpter'"
      ]
     },
     "execution_count": 112,
     "metadata": {},
     "output_type": "execute_result"
    }
   ],
   "source": [
    "def chgstr(s,a,b):\n",
    "    if not s: return ''\n",
    "    return (s[0] if not (s[0] in (a,b)) else b) + chgstr(s[1:],a,b)\n",
    "\n",
    "chgstr('wbpter','w','b')"
   ]
  },
  {
   "cell_type": "code",
   "execution_count": 114,
   "metadata": {
    "collapsed": false
   },
   "outputs": [
    {
     "data": {
      "text/plain": [
       "False"
      ]
     },
     "execution_count": 114,
     "metadata": {},
     "output_type": "execute_result"
    }
   ],
   "source": [
    "def inarr(a,k):\n",
    "    if not a: return False\n",
    "    if a[0] == k: return True\n",
    "    return inarr(a[1:],k)\n",
    "\n",
    "inarr([1,2,3,4,5],7)"
   ]
  },
  {
   "cell_type": "code",
   "execution_count": 120,
   "metadata": {
    "collapsed": false
   },
   "outputs": [
    {
     "data": {
      "text/plain": [
       "3"
      ]
     },
     "execution_count": 120,
     "metadata": {},
     "output_type": "execute_result"
    }
   ],
   "source": [
    "def euc(a,b):\n",
    "    aa = min(a,b)\n",
    "    bb = max(a,b)\n",
    "    if not bb%aa: return aa\n",
    "    return euc(bb%aa,aa)\n",
    "\n",
    "euc(105, 24)"
   ]
  },
  {
   "cell_type": "code",
   "execution_count": 127,
   "metadata": {
    "collapsed": false
   },
   "outputs": [
    {
     "data": {
      "text/plain": [
       "[1, 5, 10, 10, 5, 1]"
      ]
     },
     "execution_count": 127,
     "metadata": {},
     "output_type": "execute_result"
    }
   ],
   "source": [
    "def binom(n,listly):\n",
    "    if not n-1: return listly\n",
    "    newlist = [listly[0]] + [listly[i-1] + listly[i] for i in range(1,len(listly))] + [listly[-1]]\n",
    "    return binom(n-1,newlist)\n",
    "\n",
    "binom(6,[1])"
   ]
  },
  {
   "cell_type": "code",
   "execution_count": 48,
   "metadata": {
    "collapsed": false
   },
   "outputs": [
    {
     "name": "stdout",
     "output_type": "stream",
     "text": [
      "[(0, 0), (0, 1), (0, 2), (0, 3), (0, 4), (0, 5), (0, 6), (0, 7), (1, 0), (1, 1), (1, 2), (1, 3), (1, 4), (1, 5), (1, 6), (1, 7), (2, 0), (2, 1), (2, 2), (2, 3), (2, 4), (2, 5), (2, 6), (2, 7), (3, 0), (3, 1), (3, 2), (3, 3), (3, 4), (3, 5), (3, 6), (3, 7), (4, 0), (4, 1), (4, 2), (4, 3), (4, 4), (4, 5), (4, 6), (4, 7), (5, 0), (5, 1), (5, 2), (5, 3), (5, 4), (5, 5), (5, 6), (5, 7), (6, 0), (6, 1), (6, 2), (6, 3), (6, 4), (6, 5), (6, 6), (6, 7), (7, 0), (7, 1), (7, 2), (7, 3), (7, 4), (7, 5), (7, 6), (7, 7)]\n",
      "checking square 1 2 3 4 5 6 7 8 9 10 11 12 13 14 15 16 17 18 19 20 21 22 23 24 25 26 27 28 29 30 31 32 33 34 35 36 37 38 39 40 41 42 43 44 45 46 47 48 49 50 51 52 53 54 55 56 57 58 59 60 61 62 63 64 \n",
      "Answer is: 92\n"
     ]
    }
   ],
   "source": [
    "### DUMB version\n",
    "board = [(i,j) for i in range(8) for j in range(8)]\n",
    "print (board)\n",
    "\n",
    "def queensdumb(board,depth,start):\n",
    "    if (depth==8): return 1\n",
    "    if start>=len(board): return 0\n",
    "    if depth ==0: print start+1,\n",
    "    a,b = board[start]\n",
    "    newboard = [(i,j) for i,j in board if (i != a) and (j!=b) and (i-j != a-b) and (i+j != a+b)]\n",
    "    return queensdumb(newboard,depth+1,0) + queensdumb(board,depth,start+1)\n",
    "\n",
    "print 'checking square',\n",
    "a = queensdumb(board,0,0)/8/7/6/5/4/3/2/1\n",
    "\n",
    "print '\\nAnswer is:', a"
   ]
  },
  {
   "cell_type": "code",
   "execution_count": 132,
   "metadata": {
    "collapsed": false
   },
   "outputs": [
    {
     "name": "stdout",
     "output_type": "stream",
     "text": [
      "8\n",
      "92\n"
     ]
    }
   ],
   "source": [
    "board = [(i,j) for i in range(8) for j in range(8)]\n",
    "\n",
    "def maxqueens(board,depth,start):\n",
    "    if start>=len(board): return 0\n",
    "    a,b = board[start]\n",
    "    newboard = [(i,j) for i,j in board if (i != a) and (j!=b) and (i-j != a-b) and (i+j != a+b)]\n",
    "    if not newboard: return depth+1\n",
    "    place = 8*a + b\n",
    "    newboardplaces = [8*k+l for k,l in newboard]\n",
    "    newstarts = [l for l,k in enumerate(newboardplaces) if k >= place]\n",
    "    if not newstarts: return max([depth,maxqueens(board,depth,start+1)])\n",
    "    newstart = min(newstarts)\n",
    "    return max([depth, maxqueens(newboard,depth+1,newstart) , maxqueens(board,depth,start+1)])\n",
    "\n",
    "def queens(board,depth,start,maxx):\n",
    "    if (depth==maxx-1) and board: return 1\n",
    "    if start>=len(board): return 0\n",
    "    a,b = board[start]\n",
    "    newboard = [(i,j) for i,j in board if (i != a) and (j!=b) and (i-j != a-b) and (i+j != a+b)]\n",
    "    place = 8*a + b\n",
    "    newboardplaces = [8*k+l for k,l in newboard]\n",
    "    newstarts = [l for l,k in enumerate(newboardplaces) if k >= place]\n",
    "    if not newstarts: return queens(board,depth,start+1,maxx)\n",
    "    newstart = min(newstarts)\n",
    "    return queens(newboard,depth+1,newstart,maxx) + queens(board,depth,start+1,maxx)\n",
    "\n",
    "print maxqueens(board,0,0)\n",
    "print queens(board,0,0,maxqueens(board,0,0))"
   ]
  },
  {
   "cell_type": "code",
   "execution_count": 61,
   "metadata": {
    "collapsed": false
   },
   "outputs": [
    {
     "name": "stdout",
     "output_type": "stream",
     "text": [
      "[(0.0, 0.0), (0.0, 1.0), (0.5, 1.5), (1.0, 1.0), (1.0, 0.0)]\n"
     ]
    },
    {
     "data": {
      "text/plain": [
       "[1, 2, 0]"
      ]
     },
     "execution_count": 61,
     "metadata": {},
     "output_type": "execute_result"
    }
   ],
   "source": [
    "import math\n",
    "\n",
    "def angle(p1,p2):\n",
    "    if p1[0] == p2[0]:\n",
    "        return (math.copysign(90, p2[1]-p1[1]))%360\n",
    "    base = 180.0 /math.pi * math.atan( (p2[1] - p1[1]) / (p2[0] - p1[0])  ) % 360\n",
    "    if p2[0] < p1[0]: base = (base+180)%360\n",
    "    return base\n",
    "\n",
    "def rank_simple(vector):\n",
    "    return sorted(range(len(vector)), key=vector.__getitem__)\n",
    "\n",
    "def hull(allpts,prevpt,prevslope,hullpts):\n",
    "    if not prevpt:\n",
    "        xs = zip(*allpts)[0]\n",
    "        minx = min(xs)\n",
    "        inds = [i for i,j in enumerate(xs) if j==minx]\n",
    "        prevpt = allpts[inds[0]]\n",
    "        prevslope = 90\n",
    "        hullpts.append(prevpt)\n",
    "    angles = [angle(prevpt,i) for i in allpts]\n",
    "    relang = [(prevslope - i)%360.0 for i in angles]\n",
    "    inds = rank_simple(relang)\n",
    "    if prevpt==allpts[inds[0]]:\n",
    "        ind=inds[1]\n",
    "    else:\n",
    "        ind=inds[0]\n",
    "    prevslope = angles[ind]\n",
    "    nextpt = allpts[ind]\n",
    "    if nextpt in hullpts: return hullpts\n",
    "    hullpts.append(nextpt)\n",
    "    return hull(allpts,nextpt,prevslope,hullpts)\n",
    "    \n",
    "print hull([(0.0,0.0),(0.4,1.3),(0.5,1.5),(1.0,0.0),(1.0,1.0),(0.0,1.0),(0.1,0.5)],[],0,[])\n",
    "\n",
    "rank_simple([3,1,2])\n",
    "\n"
   ]
  },
  {
   "cell_type": "code",
   "execution_count": 45,
   "metadata": {
    "collapsed": false
   },
   "outputs": [
    {
     "ename": "TypeError",
     "evalue": "unsupported operand type(s) for -: 'list' and 'list'",
     "output_type": "error",
     "traceback": [
      "\u001b[1;31m---------------------------------------------------------------------------\u001b[0m",
      "\u001b[1;31mTypeError\u001b[0m                                 Traceback (most recent call last)",
      "\u001b[1;32m<ipython-input-45-d9989c13ad74>\u001b[0m in \u001b[0;36m<module>\u001b[1;34m()\u001b[0m\n\u001b[1;32m----> 1\u001b[1;33m \u001b[1;33m[\u001b[0m\u001b[1;36m1\u001b[0m\u001b[1;33m,\u001b[0m\u001b[1;36m2\u001b[0m\u001b[1;33m,\u001b[0m\u001b[1;36m3\u001b[0m\u001b[1;33m,\u001b[0m\u001b[1;36m4\u001b[0m\u001b[1;33m]\u001b[0m\u001b[1;33m-\u001b[0m\u001b[1;33m[\u001b[0m\u001b[1;36m1\u001b[0m\u001b[1;33m]\u001b[0m\u001b[1;33m\u001b[0m\u001b[0m\n\u001b[0m",
      "\u001b[1;31mTypeError\u001b[0m: unsupported operand type(s) for -: 'list' and 'list'"
     ]
    }
   ],
   "source": [
    "[1,2,3,4]"
   ]
  }
 ],
 "metadata": {
  "kernelspec": {
   "display_name": "Python 2",
   "language": "python",
   "name": "python2"
  },
  "language_info": {
   "codemirror_mode": {
    "name": "ipython",
    "version": 2
   },
   "file_extension": ".py",
   "mimetype": "text/x-python",
   "name": "python",
   "nbconvert_exporter": "python",
   "pygments_lexer": "ipython2",
   "version": "2.7.11"
  }
 },
 "nbformat": 4,
 "nbformat_minor": 0
}
