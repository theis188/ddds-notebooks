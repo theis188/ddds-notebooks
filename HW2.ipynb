{
 "cells": [
  {
   "cell_type": "markdown",
   "metadata": {},
   "source": [
    "### Q1"
   ]
  },
  {
   "cell_type": "code",
   "execution_count": 12,
   "metadata": {
    "collapsed": false
   },
   "outputs": [
    {
     "name": "stdout",
     "output_type": "stream",
     "text": [
      "105\n"
     ]
    }
   ],
   "source": [
    "dic = {\"1\":1, \"2\":2, \"3\":3, \"4\":4, \"5\":5, \"6\":6, \"7\":7, \"8\":8, \"9\":9, \"0\":0}\n",
    "\n",
    "def str2int(s):\n",
    "    return sum([dic[a]*(10**i) for i,a in enumerate(s[::-1])])\n",
    "\n",
    "print str2int(\"105\")"
   ]
  },
  {
   "cell_type": "markdown",
   "metadata": {},
   "source": [
    "### Q2"
   ]
  },
  {
   "cell_type": "code",
   "execution_count": 10,
   "metadata": {
    "collapsed": false
   },
   "outputs": [
    {
     "name": "stdout",
     "output_type": "stream",
     "text": [
      "10.05\n"
     ]
    }
   ],
   "source": [
    "def str2flt(s):\n",
    "    strs = s.split('.')\n",
    "    return str2int(strs[0]) + str2int(strs[1])/(10.0**len(strs[1]))\n",
    "\n",
    "print str2flt(\"10.05\")"
   ]
  },
  {
   "cell_type": "markdown",
   "metadata": {},
   "source": [
    "### Q3"
   ]
  },
  {
   "cell_type": "code",
   "execution_count": 27,
   "metadata": {
    "collapsed": false
   },
   "outputs": [
    {
     "name": "stdout",
     "output_type": "stream",
     "text": [
      "this is\ta\tstring\n",
      "this is another\tstring\t.\tthe\n",
      "quick\tbrown fox\tjumps\n"
     ]
    }
   ],
   "source": [
    "def a(s):\n",
    "    return s\n",
    "\n",
    "print a(\"this is\\ta\\tstring\\nthis is another\\tstring\\t.\\tthe\\nquick\\tbrown fox\\tjumps\")"
   ]
  },
  {
   "cell_type": "markdown",
   "metadata": {},
   "source": [
    "What am I missing?"
   ]
  },
  {
   "cell_type": "markdown",
   "metadata": {},
   "source": [
    "### Q4"
   ]
  },
  {
   "cell_type": "code",
   "execution_count": 16,
   "metadata": {
    "collapsed": false
   },
   "outputs": [
    {
     "data": {
      "text/plain": [
       "'a3b1c1d2e2j3g2i1'"
      ]
     },
     "execution_count": 16,
     "metadata": {},
     "output_type": "execute_result"
    }
   ],
   "source": [
    "def comp(a):\n",
    "    if len(a)==0: return ''\n",
    "    if len(a)==1: return a+'1'\n",
    "    ret=''\n",
    "    currval=1\n",
    "    for i in range(1,len(a)):\n",
    "        if a[i] == a[i-1]:\n",
    "            currval += 1\n",
    "        else:\n",
    "            ret += a[i-1]+str(currval)\n",
    "            currval = 1\n",
    "    ret += a[i]+str(currval)\n",
    "    return ret\n",
    "\n",
    "comp('aaabcddeejjjggi')"
   ]
  }
 ],
 "metadata": {
  "anaconda-cloud": {},
  "kernelspec": {
   "display_name": "Python [Root]",
   "language": "python",
   "name": "Python [Root]"
  },
  "language_info": {
   "codemirror_mode": {
    "name": "ipython",
    "version": 2
   },
   "file_extension": ".py",
   "mimetype": "text/x-python",
   "name": "python",
   "nbconvert_exporter": "python",
   "pygments_lexer": "ipython2",
   "version": "2.7.11"
  }
 },
 "nbformat": 4,
 "nbformat_minor": 0
}
