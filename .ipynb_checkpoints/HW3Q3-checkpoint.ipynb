{
 "cells": [
  {
   "cell_type": "code",
   "execution_count": 24,
   "metadata": {
    "collapsed": false,
    "scrolled": true
   },
   "outputs": [
    {
     "name": "stdout",
     "output_type": "stream",
     "text": [
      "\n",
      "this is         a         string    \n",
      "this is another string    .      the\n",
      "quick           brown fox jumps     \n"
     ]
    }
   ],
   "source": [
    "def a(s):\n",
    "    a = s.split('\\n')\n",
    "    a = [i.split('\\t') for i in a]\n",
    "    cols = max([len(i) for i in a])\n",
    "    spacing = [max([len(j[i]) if i < len(j) else 0 for j in a]) for i in range(cols)]\n",
    "    for i in a:\n",
    "        print\n",
    "        for j in range(cols):\n",
    "            print (i[j] if j < len(i) else '').ljust(spacing[j]),\n",
    "    \n",
    "\n",
    "\n",
    "a(\"this is\\ta\\tstring\\nthis is another\\tstring\\t.\\tthe\\nquick\\tbrown fox\\tjumps\")"
   ]
  }
 ],
 "metadata": {
  "anaconda-cloud": {},
  "kernelspec": {
   "display_name": "Python [Root]",
   "language": "python",
   "name": "Python [Root]"
  },
  "language_info": {
   "codemirror_mode": {
    "name": "ipython",
    "version": 2
   },
   "file_extension": ".py",
   "mimetype": "text/x-python",
   "name": "python",
   "nbconvert_exporter": "python",
   "pygments_lexer": "ipython2",
   "version": "2.7.11"
  }
 },
 "nbformat": 4,
 "nbformat_minor": 0
}
